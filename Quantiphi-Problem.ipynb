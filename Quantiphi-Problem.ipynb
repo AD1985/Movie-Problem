{
 "cells": [
  {
   "cell_type": "code",
   "execution_count": 23,
   "metadata": {
    "collapsed": false
   },
   "outputs": [
    {
     "data": {
      "text/plain": [
       " production_year  movie_sequel     creative_type         source         \n",
       " Min.   :2007    Min.   :0.00000   Length:1196        Length:1196       \n",
       " 1st Qu.:2008    1st Qu.:0.00000   Class :character   Class :character  \n",
       " Median :2009    Median :0.00000   Mode  :character   Mode  :character  \n",
       " Mean   :2009    Mean   :0.09783                                        \n",
       " 3rd Qu.:2010    3rd Qu.:0.00000                                        \n",
       " Max.   :2011    Max.   :1.00000                                        \n",
       " production_method     genre             language        \n",
       " Length:1196        Length:1196        Length:1196       \n",
       " Class :character   Class :character   Class :character  \n",
       " Mode  :character   Mode  :character   Mode  :character  \n",
       "                                                         \n",
       "                                                         \n",
       "                                                         \n",
       " movie_board_rating_display_name movie_release_pattern_display_name\n",
       " Length:1196                     Length:1196                       \n",
       " Class :character                Class :character                  \n",
       " Mode  :character                Mode  :character                  \n",
       "                                                                   \n",
       "                                                                   \n",
       "                                                                   \n",
       "     total           Category    \n",
       " Min.   :   1.0   Min.   :1.000  \n",
       " 1st Qu.:  11.0   1st Qu.:2.000  \n",
       " Median :  40.5   Median :3.000  \n",
       " Mean   : 104.7   Mean   :3.564  \n",
       " 3rd Qu.: 114.2   3rd Qu.:5.000  \n",
       " Max.   :2784.0   Max.   :9.000  "
      ]
     },
     "metadata": {},
     "output_type": "display_data"
    }
   ],
   "source": [
    "setwd(\"F:\\\\Quantiphi - Modelling problem\")\n",
    "library(data.table)\n",
    "library(ggplot2)\n",
    "\n",
    "mdata <- fread(\"Training Sheet.csv\")\n",
    "\n",
    "mdata <- mdata[,`:=`(id = NULL, name = NULL, display_name = NULL, board_rating_reason = NULL)]\n",
    "mdata <- data.frame(mdata)\n",
    "\n",
    "summary(mdata)"
   ]
  },
  {
   "cell_type": "code",
   "execution_count": 18,
   "metadata": {
    "collapsed": false
   },
   "outputs": [
    {
     "data": {
      "text/html": [
       "<dl class=dl-horizontal>\n",
       "\t<dt>production_year</dt>\n",
       "\t\t<dd>5</dd>\n",
       "\t<dt>movie_sequel</dt>\n",
       "\t\t<dd>2</dd>\n",
       "\t<dt>creative_type</dt>\n",
       "\t\t<dd>9</dd>\n",
       "\t<dt>source</dt>\n",
       "\t\t<dd>16</dd>\n",
       "\t<dt>production_method</dt>\n",
       "\t\t<dd>6</dd>\n",
       "\t<dt>genre</dt>\n",
       "\t\t<dd>13</dd>\n",
       "\t<dt>language</dt>\n",
       "\t\t<dd>16</dd>\n",
       "\t<dt>movie_board_rating_display_name</dt>\n",
       "\t\t<dd>6</dd>\n",
       "\t<dt>movie_release_pattern_display_name</dt>\n",
       "\t\t<dd>7</dd>\n",
       "\t<dt>total</dt>\n",
       "\t\t<dd>324</dd>\n",
       "\t<dt>Category</dt>\n",
       "\t\t<dd>9</dd>\n",
       "</dl>\n"
      ],
      "text/latex": [
       "\\begin{description*}\n",
       "\\item[production\\textbackslash{}\\_year] 5\n",
       "\\item[movie\\textbackslash{}\\_sequel] 2\n",
       "\\item[creative\\textbackslash{}\\_type] 9\n",
       "\\item[source] 16\n",
       "\\item[production\\textbackslash{}\\_method] 6\n",
       "\\item[genre] 13\n",
       "\\item[language] 16\n",
       "\\item[movie\\textbackslash{}\\_board\\textbackslash{}\\_rating\\textbackslash{}\\_display\\textbackslash{}\\_name] 6\n",
       "\\item[movie\\textbackslash{}\\_release\\textbackslash{}\\_pattern\\textbackslash{}\\_display\\textbackslash{}\\_name] 7\n",
       "\\item[total] 324\n",
       "\\item[Category] 9\n",
       "\\end{description*}\n"
      ],
      "text/markdown": [
       "production_year\n",
       ":   5movie_sequel\n",
       ":   2creative_type\n",
       ":   9source\n",
       ":   16production_method\n",
       ":   6genre\n",
       ":   13language\n",
       ":   16movie_board_rating_display_name\n",
       ":   6movie_release_pattern_display_name\n",
       ":   7total\n",
       ":   324Category\n",
       ":   9\n",
       "\n"
      ],
      "text/plain": [
       "                   production_year                       movie_sequel \n",
       "                                 5                                  2 \n",
       "                     creative_type                             source \n",
       "                                 9                                 16 \n",
       "                 production_method                              genre \n",
       "                                 6                                 13 \n",
       "                          language    movie_board_rating_display_name \n",
       "                                16                                  6 \n",
       "movie_release_pattern_display_name                              total \n",
       "                                 7                                324 \n",
       "                          Category \n",
       "                                 9 "
      ]
     },
     "metadata": {},
     "output_type": "display_data"
    }
   ],
   "source": [
    "#Checking no. of categories in each column\n",
    "sapply(mdata, function(x) length(unique(x)))\n"
   ]
  },
  {
   "cell_type": "code",
   "execution_count": 9,
   "metadata": {
    "collapsed": false
   },
   "outputs": [
    {
     "data": {
      "image/png": "[encoded data removed]",
      "text/plain": [
       "plot without title"
      ]
     },
     "metadata": {},
     "output_type": "display_data"
    }
   ],
   "source": [
    "#Analyzing the total column\n",
    "boxplot(log(mdata$total) ~ mdata$movie_sequel , col = topo.colors(5))"
   ]
  },
  {
   "cell_type": "code",
   "execution_count": 19,
   "metadata": {
    "collapsed": false
   },
   "outputs": [
    {
     "data": {},
     "metadata": {},
     "output_type": "display_data"
    },
    {
     "data": {
      "text/plain": [
       "\n",
       "   Contemporary Fiction           Dramatization                 Factual \n",
       "                    638                      95                      60 \n",
       "                Fantasy      Historical Fiction            Kids Fiction \n",
       "                    131                     100                      59 \n",
       "Multiple Creative Types         Science Fiction              Super Hero \n",
       "                      4                      89                      20 "
      ]
     },
     "metadata": {},
     "output_type": "display_data"
    },
    {
     "data": {
      "image/png": "[encoded data removed]",
      "text/plain": [
       "plot without title"
      ]
     },
     "metadata": {},
     "output_type": "display_data"
    }
   ],
   "source": [
    "#Analyzing creative_type column with total\n",
    "ggplot(data = mdata, aes(x = creative_type, y = log(total), fill = creative_type)) + geom_boxplot() +\n",
    "theme(axis.text.x = element_blank())\n",
    "\n",
    "#Also checking their frequency counts\n",
    "table(mdata$creative_type)"
   ]
  },
  {
   "cell_type": "code",
   "execution_count": 20,
   "metadata": {
    "collapsed": true
   },
   "outputs": [],
   "source": [
    "# Kids fiction, science fiction and superhero movies seem to be doing good compared to others\n",
    "# Multiple creative types is poor performing but that could be because of their low count\n",
    "# Merging all of these into one and creating an additional flag for it\n",
    "\n",
    "mdata$creative_type <- ifelse(mdata$creative_type %in% c(\"Kids Fiction\", \"Science Fiction\", \"Super Hero\", \n",
    "                            \"Multiple Creative Types\"), \"other\", mdata$creative_type)\n",
    "mdata$creative_type_flag <- ifelse(mdata$creative_type==\"other\",1,0)\n",
    "\n"
   ]
  },
  {
   "cell_type": "code",
   "execution_count": 22,
   "metadata": {
    "collapsed": false
   },
   "outputs": [
    {
     "data": {
      "text/plain": [
       "\n",
       "       Based on Comic/Graphic Novel       Based on Factual Book/Article \n",
       "                                 36                                  23 \n",
       "  Based on Fiction Book/Short Story Based on Folk Tale/Legend/Fairytale \n",
       "                                218                                  10 \n",
       "                      Based on Game           Based on Musical or Opera \n",
       "                                  8                                   4 \n",
       "                      Based on Play           Based on Real Life Events \n",
       "                                 21                                 128 \n",
       "                Based on Short Film            Based on Theme Park Ride \n",
       "                                  4                                   2 \n",
       "                       Based on Toy                         Based on TV \n",
       "                                  2                                  38 \n",
       "                        Compilation                 Original Screenplay \n",
       "                                  3                                 629 \n",
       "                             Remake                            Spin-Off \n",
       "                                 65                                   5 "
      ]
     },
     "metadata": {},
     "output_type": "display_data"
    },
    {
     "data": {},
     "metadata": {},
     "output_type": "display_data"
    },
    {
     "data": {
      "image/png": "[encoded data removed]",
      "text/plain": [
       "plot without title"
      ]
     },
     "metadata": {},
     "output_type": "display_data"
    }
   ],
   "source": [
    "#Analyzing source in similar way\n",
    "table(mdata$source)\n",
    "\n",
    "ggplot(data = mdata, aes(x = source, y = log(total), fill = source)) + geom_boxplot() +\n",
    "    theme(axis.text.x = element_blank())\n",
    " \n",
    " "
   ]
  },
  {
   "cell_type": "code",
   "execution_count": null,
   "metadata": {
    "collapsed": true
   },
   "outputs": [],
   "source": []
  }
 ],
 "metadata": {
  "anaconda-cloud": {},
  "kernelspec": {
   "display_name": "R",
   "language": "R",
   "name": "ir"
  },
  "language_info": {
   "codemirror_mode": "r",
   "file_extension": ".r",
   "mimetype": "text/x-r-source",
   "name": "R",
   "pygments_lexer": "r",
   "version": "3.3.1"
  }
 },
 "nbformat": 4,
 "nbformat_minor": 1
}
