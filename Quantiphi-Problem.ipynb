{
 "cells": [
  {
   "cell_type": "code",
   "execution_count": 11,
   "metadata": {
    "collapsed": false
   },
   "outputs": [
    {
     "data": {
      "text/plain": [
       "     name           display_name       production_year  movie_sequel    \n",
       " Length:1196        Length:1196        Min.   :2007    Min.   :0.00000  \n",
       " Class :character   Class :character   1st Qu.:2008    1st Qu.:0.00000  \n",
       " Mode  :character   Mode  :character   Median :2009    Median :0.00000  \n",
       "                                       Mean   :2009    Mean   :0.09783  \n",
       "                                       3rd Qu.:2010    3rd Qu.:0.00000  \n",
       "                                       Max.   :2011    Max.   :1.00000  \n",
       " creative_type         source          production_method     genre          \n",
       " Length:1196        Length:1196        Length:1196        Length:1196       \n",
       " Class :character   Class :character   Class :character   Class :character  \n",
       " Mode  :character   Mode  :character   Mode  :character   Mode  :character  \n",
       "                                                                            \n",
       "                                                                            \n",
       "                                                                            \n",
       "   language         board_rating_reason movie_board_rating_display_name\n",
       " Length:1196        Length:1196         Length:1196                    \n",
       " Class :character   Class :character    Class :character               \n",
       " Mode  :character   Mode  :character    Mode  :character               \n",
       "                                                                       \n",
       "                                                                       \n",
       "                                                                       \n",
       " movie_release_pattern_display_name     total           Category    \n",
       " Length:1196                        Min.   :   1.0   Min.   :1.000  \n",
       " Class :character                   1st Qu.:  11.0   1st Qu.:2.000  \n",
       " Mode  :character                   Median :  40.5   Median :3.000  \n",
       "                                    Mean   : 104.7   Mean   :3.564  \n",
       "                                    3rd Qu.: 114.2   3rd Qu.:5.000  \n",
       "                                    Max.   :2784.0   Max.   :9.000  "
      ]
     },
     "metadata": {},
     "output_type": "display_data"
    }
   ],
   "source": [
    "setwd(\"F:\\\\Quantiphi - Modelling problem\")\n",
    "library(data.table)\n",
    "library(ggplot2)\n",
    "\n",
    "mdata <- fread(\"Training Sheet.csv\")\n",
    "\n",
    "mdata <- mdata[,`:=`(id = NULL)]\n",
    "mdata <- data.frame(mdata)\n",
    "\n",
    "summary(mdata)"
   ]
  },
  {
   "cell_type": "code",
   "execution_count": 12,
   "metadata": {
    "collapsed": false
   },
   "outputs": [
    {
     "data": {
      "text/html": [
       "<dl class=dl-horizontal>\n",
       "\t<dt>name</dt>\n",
       "\t\t<dd>1196</dd>\n",
       "\t<dt>display_name</dt>\n",
       "\t\t<dd>1195</dd>\n",
       "\t<dt>production_year</dt>\n",
       "\t\t<dd>5</dd>\n",
       "\t<dt>movie_sequel</dt>\n",
       "\t\t<dd>2</dd>\n",
       "\t<dt>creative_type</dt>\n",
       "\t\t<dd>9</dd>\n",
       "\t<dt>source</dt>\n",
       "\t\t<dd>16</dd>\n",
       "\t<dt>production_method</dt>\n",
       "\t\t<dd>6</dd>\n",
       "\t<dt>genre</dt>\n",
       "\t\t<dd>13</dd>\n",
       "\t<dt>language</dt>\n",
       "\t\t<dd>16</dd>\n",
       "\t<dt>board_rating_reason</dt>\n",
       "\t\t<dd>1003</dd>\n",
       "\t<dt>movie_board_rating_display_name</dt>\n",
       "\t\t<dd>6</dd>\n",
       "\t<dt>movie_release_pattern_display_name</dt>\n",
       "\t\t<dd>7</dd>\n",
       "\t<dt>total</dt>\n",
       "\t\t<dd>324</dd>\n",
       "\t<dt>Category</dt>\n",
       "\t\t<dd>9</dd>\n",
       "</dl>\n"
      ],
      "text/latex": [
       "\\begin{description*}\n",
       "\\item[name] 1196\n",
       "\\item[display\\textbackslash{}\\_name] 1195\n",
       "\\item[production\\textbackslash{}\\_year] 5\n",
       "\\item[movie\\textbackslash{}\\_sequel] 2\n",
       "\\item[creative\\textbackslash{}\\_type] 9\n",
       "\\item[source] 16\n",
       "\\item[production\\textbackslash{}\\_method] 6\n",
       "\\item[genre] 13\n",
       "\\item[language] 16\n",
       "\\item[board\\textbackslash{}\\_rating\\textbackslash{}\\_reason] 1003\n",
       "\\item[movie\\textbackslash{}\\_board\\textbackslash{}\\_rating\\textbackslash{}\\_display\\textbackslash{}\\_name] 6\n",
       "\\item[movie\\textbackslash{}\\_release\\textbackslash{}\\_pattern\\textbackslash{}\\_display\\textbackslash{}\\_name] 7\n",
       "\\item[total] 324\n",
       "\\item[Category] 9\n",
       "\\end{description*}\n"
      ],
      "text/markdown": [
       "name\n",
       ":   1196display_name\n",
       ":   1195production_year\n",
       ":   5movie_sequel\n",
       ":   2creative_type\n",
       ":   9source\n",
       ":   16production_method\n",
       ":   6genre\n",
       ":   13language\n",
       ":   16board_rating_reason\n",
       ":   1003movie_board_rating_display_name\n",
       ":   6movie_release_pattern_display_name\n",
       ":   7total\n",
       ":   324Category\n",
       ":   9\n",
       "\n"
      ],
      "text/plain": [
       "                              name                       display_name \n",
       "                              1196                               1195 \n",
       "                   production_year                       movie_sequel \n",
       "                                 5                                  2 \n",
       "                     creative_type                             source \n",
       "                                 9                                 16 \n",
       "                 production_method                              genre \n",
       "                                 6                                 13 \n",
       "                          language                board_rating_reason \n",
       "                                16                               1003 \n",
       "   movie_board_rating_display_name movie_release_pattern_display_name \n",
       "                                 6                                  7 \n",
       "                             total                           Category \n",
       "                               324                                  9 "
      ]
     },
     "metadata": {},
     "output_type": "display_data"
    }
   ],
   "source": [
    "#Checking no. of categories in each column\n",
    "sapply(mdata, function(x) length(unique(x)))\n"
   ]
  },
  {
   "cell_type": "code",
   "execution_count": 13,
   "metadata": {
    "collapsed": false
   },
   "outputs": [
    {
     "data": {
      "image/png": "[encoded data removed]",
      "text/plain": [
       "plot without title"
      ]
     },
     "metadata": {},
     "output_type": "display_data"
    }
   ],
   "source": [
    "# Checking distribution of total column with box plot\n",
    "boxplot(mdata$total)"
   ]
  },
  {
   "cell_type": "code",
   "execution_count": 7,
   "metadata": {
    "collapsed": false
   },
   "outputs": [
    {
     "data": {
      "image/png": "[encoded data removed]",
      "text/plain": [
       "plot without title"
      ]
     },
     "metadata": {},
     "output_type": "display_data"
    }
   ],
   "source": [
    "# Taking a log transformation of total column for bivariate analysis is a better choice \n",
    "# Because that will enable us to see the bivariate distribution in much clear way\n",
    "\n",
    "# Testing the hypothesis that movies with sequels tend to earn more than other movies \n",
    "\n",
    "boxplot(log(mdata$total) ~ mdata$movie_sequel , col = topo.colors(5))"
   ]
  },
  {
   "cell_type": "code",
   "execution_count": 14,
   "metadata": {
    "collapsed": false
   },
   "outputs": [
    {
     "data": {},
     "metadata": {},
     "output_type": "display_data"
    },
    {
     "data": {
      "text/plain": [
       "\n",
       "   Contemporary Fiction           Dramatization                 Factual \n",
       "                    638                      95                      60 \n",
       "                Fantasy      Historical Fiction            Kids Fiction \n",
       "                    131                     100                      59 \n",
       "Multiple Creative Types         Science Fiction              Super Hero \n",
       "                      4                      89                      20 "
      ]
     },
     "metadata": {},
     "output_type": "display_data"
    },
    {
     "data": {
      "image/png": "[encoded data removed]",
      "text/plain": [
       "plot without title"
      ]
     },
     "metadata": {},
     "output_type": "display_data"
    }
   ],
   "source": [
    "#Analyzing creative_type column with total along with frequencies\n",
    "\n",
    "ggplot(data = mdata, aes(x = creative_type, y = log(total), fill = creative_type)) + geom_boxplot() +\n",
    "theme(axis.text.x = element_blank())\n",
    "\n",
    "table(mdata$creative_type)"
   ]
  },
  {
   "cell_type": "code",
   "execution_count": 15,
   "metadata": {
    "collapsed": true
   },
   "outputs": [],
   "source": [
    "# Kids fiction, science fiction and superhero movies seem to be doing good compared to others\n",
    "# Multiple creative types is poor performing but that could be because of their low count\n",
    "# Merging all of these into one and creating an additional flag for it\n",
    "\n",
    "mdata$creative_type <- ifelse(mdata$creative_type %in% c(\"Kids Fiction\", \"Science Fiction\", \"Super Hero\", \n",
    "                            \"Multiple Creative Types\"), \"High_Performer\", mdata$creative_type)\n",
    "\n",
    "mdata$creative_type_flag <- ifelse(mdata$creative_type==\"High_Performer\",1,0)"
   ]
  },
  {
   "cell_type": "code",
   "execution_count": 16,
   "metadata": {
    "collapsed": false
   },
   "outputs": [
    {
     "data": {
      "text/plain": [
       "\n",
       "       Based on Comic/Graphic Novel       Based on Factual Book/Article \n",
       "                                 36                                  23 \n",
       "  Based on Fiction Book/Short Story Based on Folk Tale/Legend/Fairytale \n",
       "                                218                                  10 \n",
       "                      Based on Game           Based on Musical or Opera \n",
       "                                  8                                   4 \n",
       "                      Based on Play           Based on Real Life Events \n",
       "                                 21                                 128 \n",
       "                Based on Short Film            Based on Theme Park Ride \n",
       "                                  4                                   2 \n",
       "                       Based on Toy                         Based on TV \n",
       "                                  2                                  38 \n",
       "                        Compilation                 Original Screenplay \n",
       "                                  3                                 629 \n",
       "                             Remake                            Spin-Off \n",
       "                                 65                                   5 "
      ]
     },
     "metadata": {},
     "output_type": "display_data"
    },
    {
     "data": {},
     "metadata": {},
     "output_type": "display_data"
    },
    {
     "data": {
      "image/png": "[encoded data removed]",
      "text/plain": [
       "plot without title"
      ]
     },
     "metadata": {},
     "output_type": "display_data"
    }
   ],
   "source": [
    "#Analyzing source in similar way\n",
    "table(mdata$source)\n",
    "\n",
    "ggplot(data = mdata, aes(x = source, y = log(total), fill = source)) + geom_boxplot() +\n",
    "    theme(axis.text.x = element_blank())\n"
   ]
  },
  {
   "cell_type": "code",
   "execution_count": 17,
   "metadata": {
    "collapsed": false
   },
   "outputs": [
    {
     "data": {
      "text/plain": [
       "\n",
       "     Based on Comic/Graphic Novel     Based on Factual Book/Article \n",
       "                               36                                23 \n",
       "Based on Fiction Book/Short Story                     Based on Play \n",
       "                              218                                21 \n",
       "        Based on Real Life Events                       Based on TV \n",
       "                              128                                38 \n",
       "                         Combined               Original Screenplay \n",
       "                               38                               629 \n",
       "                           Remake \n",
       "                               65 "
      ]
     },
     "metadata": {},
     "output_type": "display_data"
    },
    {
     "data": {
      "text/plain": [
       "\n",
       "   0    1 \n",
       "1158   38 "
      ]
     },
     "metadata": {},
     "output_type": "display_data"
    }
   ],
   "source": [
    "#Some sources are vary low in frequency\n",
    "#Combining those and creating a flag for it\n",
    "\n",
    "mdata$source <- ifelse(mdata$source %in% c(\"Based on Folk Tale/Legend/Fairytale\", \"Based on Game\", \"Based on Musical or Opera\", \"Based on Short Film\", \n",
    "  \"Based on Theme Park Ride\", \"Based on Toy\",\"Compilation\", \"Spin-Off\"), \"Combined\", mdata$source)\n",
    "\n",
    "mdata$source_lowfreq_flag <- ifelse(mdata$source==\"Combined\", 1, 0)\n",
    "\n",
    "table(mdata$source)\n",
    "\n",
    "table(mdata$source_lowfreq_flag)"
   ]
  },
  {
   "cell_type": "code",
   "execution_count": 18,
   "metadata": {
    "collapsed": false
   },
   "outputs": [
    {
     "data": {},
     "metadata": {},
     "output_type": "display_data"
    },
    {
     "data": {
      "text/plain": [
       "\n",
       "      Animation/Live Action           Digital Animation \n",
       "                         36                          53 \n",
       "             Hand Animation                 Live Action \n",
       "                          6                        1093 \n",
       "Multiple Production Methods       Stop-Motion Animation \n",
       "                          3                           5 "
      ]
     },
     "metadata": {},
     "output_type": "display_data"
    },
    {
     "data": {
      "image/png": "[encoded data removed]",
      "text/plain": [
       "plot without title"
      ]
     },
     "metadata": {},
     "output_type": "display_data"
    }
   ],
   "source": [
    "# Similar analysis for production method as well\n",
    "\n",
    "ggplot(data = mdata, aes(x = production_method, y = log(total), fill = production_method)) + geom_boxplot() +\n",
    "theme(axis.text.x = element_blank())\n",
    " \n",
    "table(mdata$production_method)"
   ]
  },
  {
   "cell_type": "code",
   "execution_count": 19,
   "metadata": {
    "collapsed": false
   },
   "outputs": [
    {
     "data": {},
     "metadata": {},
     "output_type": "display_data"
    },
    {
     "data": {
      "image/png": "[encoded data removed]",
      "text/plain": [
       "plot without title"
      ]
     },
     "metadata": {},
     "output_type": "display_data"
    }
   ],
   "source": [
    "#Here also combining \"Multiple production methods\", \"Stop motion animation\" and \"hand animation\" because of low frequency\n",
    "\n",
    "mdata$production_method <- ifelse(mdata$production_method %in% c(\"Hand Animation\", \n",
    "    \"Multiple Production Methods\", \"Stop-Motion Animation\"), \"Combined\", mdata$production_method)\n",
    "\n",
    "# Checking the boxplot again\n",
    "\n",
    "ggplot(data = mdata, aes(x = production_method, y = log(total), fill = production_method)) + geom_boxplot() +\n",
    "theme(axis.text.x = element_blank())"
   ]
  },
  {
   "cell_type": "code",
   "execution_count": 20,
   "metadata": {
    "collapsed": false
   },
   "outputs": [
    {
     "data": {
      "text/plain": [
       "\n",
       "   0    1 \n",
       "1107   89 "
      ]
     },
     "metadata": {},
     "output_type": "display_data"
    }
   ],
   "source": [
    "# Here \"Animation/Live Action\" and \"Digital Animation\" seem to be perforing well despite their comparatively low frequency\n",
    "\n",
    "# Creating a flag to emphasize on this phenomena\n",
    "\n",
    "mdata$production_method_flag <- ifelse(mdata$production_method %in% c(\"Digital Animation\", \"Animation/Live Action\"), 1, 0)\n",
    "\n",
    "table(mdata$production_method_flag)"
   ]
  },
  {
   "cell_type": "code",
   "execution_count": 21,
   "metadata": {
    "collapsed": false
   },
   "outputs": [
    {
     "data": {},
     "metadata": {},
     "output_type": "display_data"
    },
    {
     "data": {
      "text/plain": [
       "\n",
       "             Action           Adventure        Black Comedy              Comedy \n",
       "                124                 107                  12                 260 \n",
       "Concert/Performance         Documentary               Drama              Horror \n",
       "                  6                  54                 321                  74 \n",
       "    Multiple Genres             Musical     Romantic Comedy   Thriller/Suspense \n",
       "                  9                  12                  80                 131 \n",
       "            Western \n",
       "                  6 "
      ]
     },
     "metadata": {},
     "output_type": "display_data"
    },
    {
     "data": {
      "image/png": "[encoded data removed]",
      "text/plain": [
       "plot without title"
      ]
     },
     "metadata": {},
     "output_type": "display_data"
    }
   ],
   "source": [
    "# Analysis for genre\n",
    "\n",
    "ggplot(data = mdata, aes(x = genre, y = log(total), fill = genre)) + geom_boxplot() +\n",
    "  theme(axis.text.x = element_blank())\n",
    "\n",
    "table(mdata$genre)"
   ]
  },
  {
   "cell_type": "code",
   "execution_count": 22,
   "metadata": {
    "collapsed": false
   },
   "outputs": [
    {
     "data": {},
     "metadata": {},
     "output_type": "display_data"
    },
    {
     "data": {
      "text/plain": [
       "\n",
       "           Action         Adventure          Combined            Comedy \n",
       "              124               107                45               260 \n",
       "      Documentary             Drama            Horror   Romantic Comedy \n",
       "               54               321                74                80 \n",
       "Thriller/Suspense \n",
       "              131 "
      ]
     },
     "metadata": {},
     "output_type": "display_data"
    },
    {
     "data": {
      "image/png": "[encoded data removed]",
      "text/plain": [
       "plot without title"
      ]
     },
     "metadata": {},
     "output_type": "display_data"
    }
   ],
   "source": [
    "# Combining low frequency genre and again checking the same graph\n",
    "\n",
    "mdata$genre <- ifelse(mdata$genre %in% c(\"Black Comedy\", \"Concert/Performance\", \"Multiple Genres\", \"Musical\", \"Western\"), \n",
    "                     \"Combined\", mdata$genre)\n",
    "\n",
    "ggplot(data = mdata, aes(x = genre, y = log(total), fill = genre)) + geom_boxplot() +\n",
    "  theme(axis.text.x = element_blank())\n",
    "\n",
    "table(mdata$genre)"
   ]
  },
  {
   "cell_type": "code",
   "execution_count": 23,
   "metadata": {
    "collapsed": true
   },
   "outputs": [],
   "source": [
    "# Here \"Action\" and \"Adventure\" are doing exceptionally good but documentaries are poor performing\n",
    "\n",
    "# Creating seperate flags for these two\n",
    "\n",
    "mdata$genre_action <- ifelse(mdata$genre %in% c(\"Action\", \"Adventure\"), 1, 0)\n",
    "\n",
    "mdata$genre_documentary <- ifelse(mdata$genre==\"Documentary\", 1, 0)"
   ]
  },
  {
   "cell_type": "code",
   "execution_count": 24,
   "metadata": {
    "collapsed": false
   },
   "outputs": [
    {
     "data": {},
     "metadata": {},
     "output_type": "display_data"
    },
    {
     "data": {
      "text/plain": [
       "\n",
       "        G     NC-17 Not Rated        PG     PG-13         R \n",
       "       39         3        83       182       441       448 "
      ]
     },
     "metadata": {},
     "output_type": "display_data"
    },
    {
     "data": {
      "image/png": "[encoded data removed]",
      "text/plain": [
       "plot without title"
      ]
     },
     "metadata": {},
     "output_type": "display_data"
    }
   ],
   "source": [
    "# Analysis for board_rating_display_name\n",
    "\n",
    "ggplot(data = mdata, aes(x = movie_board_rating_display_name, y = log(total), fill = movie_board_rating_display_name)) + geom_boxplot() +\n",
    "  theme(axis.text.x = element_blank())\n",
    "\n",
    "table(mdata$movie_board_rating_display_name)\n"
   ]
  },
  {
   "cell_type": "code",
   "execution_count": 25,
   "metadata": {
    "collapsed": true
   },
   "outputs": [],
   "source": [
    "# Here NC-17 and Not Rated seem to be similar in nature in terms of their box-office performance\n",
    "\n",
    "# Combining and creating a flag \n",
    "\n",
    "mdata$movie_board_rating_display_name <- ifelse(mdata$movie_board_rating_display_name %in% c(\"NC-17\", \"Not Rated\"), \n",
    "                        \"Combined\", mdata$movie_board_rating_display_name)\n",
    "\n",
    "mdata$movie_board_rating_display_name_flag <- ifelse(mdata$movie_board_rating_display_name==\"Combined\", 1, 0)"
   ]
  },
  {
   "cell_type": "code",
   "execution_count": 27,
   "metadata": {
    "collapsed": false
   },
   "outputs": [
    {
     "data": {},
     "metadata": {},
     "output_type": "display_data"
    },
    {
     "data": {
      "text/plain": [
       "\n",
       "           Exclusive         Expands Wide                 IMAX \n",
       "                  30                   21                    3 \n",
       "             Limited Oscar Qualifying Run   Special Engagement \n",
       "                 342                    3                    2 \n",
       "                Wide \n",
       "                 795 "
      ]
     },
     "metadata": {},
     "output_type": "display_data"
    },
    {
     "data": {
      "image/png": "[encoded data removed]",
      "text/plain": [
       "plot without title"
      ]
     },
     "metadata": {},
     "output_type": "display_data"
    }
   ],
   "source": [
    "# Analyzing release pattern display name\n",
    "\n",
    "ggplot(data = mdata, aes(x = movie_release_pattern_display_name, y = log(total), fill = movie_release_pattern_display_name)) + \n",
    "    geom_boxplot() + theme(axis.text.x = element_blank())\n",
    "\n",
    "table(mdata$movie_release_pattern_display_name)\n"
   ]
  },
  {
   "cell_type": "code",
   "execution_count": 28,
   "metadata": {
    "collapsed": false
   },
   "outputs": [
    {
     "data": {},
     "metadata": {},
     "output_type": "display_data"
    },
    {
     "data": {
      "text/plain": [
       "\n",
       "    Combined    Exclusive Expands Wide         Wide \n",
       "         350           30           21          795 "
      ]
     },
     "metadata": {},
     "output_type": "display_data"
    },
    {
     "data": {
      "image/png": "[encoded data removed]",
      "text/plain": [
       "plot without title"
      ]
     },
     "metadata": {},
     "output_type": "display_data"
    }
   ],
   "source": [
    "# Combining oscar_qualifying_run, imax, special engagemet with \"Limited\"\n",
    "\n",
    "mdata$movie_release_pattern_display_name <- ifelse(mdata$movie_release_pattern_display_name %in% c(\"Oscar Qualifying Run\", \n",
    "                            \"Special Engagement\", \"IMAX\", \"Limited\"), \"Combined\", mdata$movie_release_pattern_display_name)\n",
    "\n",
    "ggplot(data = mdata, aes(x = movie_release_pattern_display_name, y = log(total), fill = movie_release_pattern_display_name)) + \n",
    "    geom_boxplot() + theme(axis.text.x = element_blank())\n",
    "\n",
    "table(mdata$movie_release_pattern_display_name)"
   ]
  },
  {
   "cell_type": "code",
   "execution_count": 29,
   "metadata": {
    "collapsed": false
   },
   "outputs": [
    {
     "data": {
      "text/plain": [
       "\n",
       "  0   1 \n",
       "380 816 "
      ]
     },
     "metadata": {},
     "output_type": "display_data"
    }
   ],
   "source": [
    "# Here wide films are doing better than others so making a flag for it\n",
    "\n",
    "mdata$movie_release_pattern_display_name_flag <- ifelse(mdata$movie_release_pattern_display_name %in% c(\"Wide\", \"Expands Wide\"), 1, 0)\n",
    "\n",
    "table(mdata$movie_release_pattern_display_name_flag)"
   ]
  },
  {
   "cell_type": "code",
   "execution_count": 48,
   "metadata": {
    "collapsed": false
   },
   "outputs": [
    {
     "data": {
      "text/plain": [
       "\n",
       "    Arabic     Danish    English      Farsi     French     German     Hebrew \n",
       "         1          1       1144          1         14          3          1 \n",
       "     Hindi    Italian   Japanese  Norwegian     Polish Portuguese     Silent \n",
       "        16          1          2          1          1          1          1 \n",
       "   Spanish    Swedish \n",
       "         6          2 "
      ]
     },
     "metadata": {},
     "output_type": "display_data"
    }
   ],
   "source": [
    "# Analyzing language\n",
    "\n",
    "table(mdata$language)"
   ]
  },
  {
   "cell_type": "code",
   "execution_count": 30,
   "metadata": {
    "collapsed": false
   },
   "outputs": [
    {
     "data": {
      "text/html": [
       "<dl class=dl-horizontal>\n",
       "\t<dt>name</dt>\n",
       "\t\t<dd>\"character\"</dd>\n",
       "\t<dt>display_name</dt>\n",
       "\t\t<dd>\"character\"</dd>\n",
       "\t<dt>production_year</dt>\n",
       "\t\t<dd>\"integer\"</dd>\n",
       "\t<dt>movie_sequel</dt>\n",
       "\t\t<dd>\"integer\"</dd>\n",
       "\t<dt>creative_type</dt>\n",
       "\t\t<dd>\"character\"</dd>\n",
       "\t<dt>source</dt>\n",
       "\t\t<dd>\"character\"</dd>\n",
       "\t<dt>production_method</dt>\n",
       "\t\t<dd>\"character\"</dd>\n",
       "\t<dt>genre</dt>\n",
       "\t\t<dd>\"character\"</dd>\n",
       "\t<dt>board_rating_reason</dt>\n",
       "\t\t<dd>\"character\"</dd>\n",
       "\t<dt>movie_board_rating_display_name</dt>\n",
       "\t\t<dd>\"character\"</dd>\n",
       "\t<dt>movie_release_pattern_display_name</dt>\n",
       "\t\t<dd>\"character\"</dd>\n",
       "\t<dt>total</dt>\n",
       "\t\t<dd>\"integer\"</dd>\n",
       "\t<dt>Category</dt>\n",
       "\t\t<dd>\"integer\"</dd>\n",
       "\t<dt>creative_type_flag</dt>\n",
       "\t\t<dd>\"numeric\"</dd>\n",
       "\t<dt>source_lowfreq_flag</dt>\n",
       "\t\t<dd>\"numeric\"</dd>\n",
       "\t<dt>production_method_flag</dt>\n",
       "\t\t<dd>\"numeric\"</dd>\n",
       "\t<dt>genre_action</dt>\n",
       "\t\t<dd>\"numeric\"</dd>\n",
       "\t<dt>genre_documentary</dt>\n",
       "\t\t<dd>\"numeric\"</dd>\n",
       "\t<dt>movie_board_rating_display_name_flag</dt>\n",
       "\t\t<dd>\"numeric\"</dd>\n",
       "\t<dt>movie_release_pattern_display_name_flag</dt>\n",
       "\t\t<dd>\"numeric\"</dd>\n",
       "</dl>\n"
      ],
      "text/latex": [
       "\\begin{description*}\n",
       "\\item[name] \"character\"\n",
       "\\item[display\\textbackslash{}\\_name] \"character\"\n",
       "\\item[production\\textbackslash{}\\_year] \"integer\"\n",
       "\\item[movie\\textbackslash{}\\_sequel] \"integer\"\n",
       "\\item[creative\\textbackslash{}\\_type] \"character\"\n",
       "\\item[source] \"character\"\n",
       "\\item[production\\textbackslash{}\\_method] \"character\"\n",
       "\\item[genre] \"character\"\n",
       "\\item[board\\textbackslash{}\\_rating\\textbackslash{}\\_reason] \"character\"\n",
       "\\item[movie\\textbackslash{}\\_board\\textbackslash{}\\_rating\\textbackslash{}\\_display\\textbackslash{}\\_name] \"character\"\n",
       "\\item[movie\\textbackslash{}\\_release\\textbackslash{}\\_pattern\\textbackslash{}\\_display\\textbackslash{}\\_name] \"character\"\n",
       "\\item[total] \"integer\"\n",
       "\\item[Category] \"integer\"\n",
       "\\item[creative\\textbackslash{}\\_type\\textbackslash{}\\_flag] \"numeric\"\n",
       "\\item[source\\textbackslash{}\\_lowfreq\\textbackslash{}\\_flag] \"numeric\"\n",
       "\\item[production\\textbackslash{}\\_method\\textbackslash{}\\_flag] \"numeric\"\n",
       "\\item[genre\\textbackslash{}\\_action] \"numeric\"\n",
       "\\item[genre\\textbackslash{}\\_documentary] \"numeric\"\n",
       "\\item[movie\\textbackslash{}\\_board\\textbackslash{}\\_rating\\textbackslash{}\\_display\\textbackslash{}\\_name\\textbackslash{}\\_flag] \"numeric\"\n",
       "\\item[movie\\textbackslash{}\\_release\\textbackslash{}\\_pattern\\textbackslash{}\\_display\\textbackslash{}\\_name\\textbackslash{}\\_flag] \"numeric\"\n",
       "\\end{description*}\n"
      ],
      "text/markdown": [
       "name\n",
       ":   \"character\"display_name\n",
       ":   \"character\"production_year\n",
       ":   \"integer\"movie_sequel\n",
       ":   \"integer\"creative_type\n",
       ":   \"character\"source\n",
       ":   \"character\"production_method\n",
       ":   \"character\"genre\n",
       ":   \"character\"board_rating_reason\n",
       ":   \"character\"movie_board_rating_display_name\n",
       ":   \"character\"movie_release_pattern_display_name\n",
       ":   \"character\"total\n",
       ":   \"integer\"Category\n",
       ":   \"integer\"creative_type_flag\n",
       ":   \"numeric\"source_lowfreq_flag\n",
       ":   \"numeric\"production_method_flag\n",
       ":   \"numeric\"genre_action\n",
       ":   \"numeric\"genre_documentary\n",
       ":   \"numeric\"movie_board_rating_display_name_flag\n",
       ":   \"numeric\"movie_release_pattern_display_name_flag\n",
       ":   \"numeric\"\n",
       "\n"
      ],
      "text/plain": [
       "                                   name                            display_name \n",
       "                            \"character\"                             \"character\" \n",
       "                        production_year                            movie_sequel \n",
       "                              \"integer\"                               \"integer\" \n",
       "                          creative_type                                  source \n",
       "                            \"character\"                             \"character\" \n",
       "                      production_method                                   genre \n",
       "                            \"character\"                             \"character\" \n",
       "                    board_rating_reason         movie_board_rating_display_name \n",
       "                            \"character\"                             \"character\" \n",
       "     movie_release_pattern_display_name                                   total \n",
       "                            \"character\"                               \"integer\" \n",
       "                               Category                      creative_type_flag \n",
       "                              \"integer\"                               \"numeric\" \n",
       "                    source_lowfreq_flag                  production_method_flag \n",
       "                              \"numeric\"                               \"numeric\" \n",
       "                           genre_action                       genre_documentary \n",
       "                              \"numeric\"                               \"numeric\" \n",
       "   movie_board_rating_display_name_flag movie_release_pattern_display_name_flag \n",
       "                              \"numeric\"                               \"numeric\" "
      ]
     },
     "metadata": {},
     "output_type": "display_data"
    }
   ],
   "source": [
    "# Language is largely english driven, this variable is not going to help in the model\n",
    "\n",
    "mdata$language <- NULL\n",
    "\n",
    "# Checking class of each variable\n",
    "\n",
    "sapply(mdata, class)"
   ]
  },
  {
   "cell_type": "code",
   "execution_count": 34,
   "metadata": {
    "collapsed": false
   },
   "outputs": [
    {
     "data": {
      "text/html": [
       "<table>\n",
       "<thead><tr><th></th><th scope=col>display_name</th><th scope=col>name_length</th></tr></thead>\n",
       "<tbody>\n",
       "\t<tr><th scope=row>1</th><td>10,000 B.C.</td><td>11         </td></tr>\n",
       "\t<tr><th scope=row>2</th><td>12 Rounds</td><td>9        </td></tr>\n",
       "\t<tr><th scope=row>3</th><td>1408</td><td>4   </td></tr>\n",
       "\t<tr><th scope=row>4</th><td>2010 Oscar Shorts</td><td>17               </td></tr>\n",
       "\t<tr><th scope=row>5</th><td>2012</td><td>4   </td></tr>\n",
       "\t<tr><th scope=row>6</th><td>21</td><td>2 </td></tr>\n",
       "</tbody>\n",
       "</table>\n"
      ],
      "text/latex": [
       "\\begin{tabular}{r|ll}\n",
       "  & display\\_name & name\\_length\\\\\n",
       "\\hline\n",
       "\t1 & 10,000 B.C. & 11         \\\\\n",
       "\t2 & 12 Rounds & 9        \\\\\n",
       "\t3 & 1408 & 4   \\\\\n",
       "\t4 & 2010 Oscar Shorts & 17               \\\\\n",
       "\t5 & 2012 & 4   \\\\\n",
       "\t6 & 21 & 2 \\\\\n",
       "\\end{tabular}\n"
      ],
      "text/plain": [
       "       display_name name_length\n",
       "1       10,000 B.C.          11\n",
       "2         12 Rounds           9\n",
       "3              1408           4\n",
       "4 2010 Oscar Shorts          17\n",
       "5              2012           4\n",
       "6                21           2"
      ]
     },
     "metadata": {},
     "output_type": "display_data"
    }
   ],
   "source": [
    "#=================================================#\n",
    "########## Feature Engineering ####################\n",
    "#=================================================#\n",
    "\n",
    "# After looking at the data, first thing that came to my mind was how long the name of the movies are. \n",
    "# I generally have the belief that movies with short and interesting name tend to do better than the movies with long names\n",
    "# It is a good time to test this hypothesis\n",
    "\n",
    "mdata$name_length <- sapply(mdata$display_name, function(x) nchar(x))\n",
    "    \n",
    "head(mdata[,c(\"display_name\",\"name_length\")])"
   ]
  },
  {
   "cell_type": "code",
   "execution_count": 38,
   "metadata": {
    "collapsed": false
   },
   "outputs": [
    {
     "data": {
      "text/plain": [
       "\n",
       "\tPearson's product-moment correlation\n",
       "\n",
       "data:  log(mdata$total) and mdata$name_length\n",
       "t = 1.2765, df = 1194, p-value = 0.202\n",
       "alternative hypothesis: true correlation is not equal to 0\n",
       "95 percent confidence interval:\n",
       " -0.01980865  0.09340575\n",
       "sample estimates:\n",
       "       cor \n",
       "0.03691701 \n"
      ]
     },
     "metadata": {},
     "output_type": "display_data"
    },
    {
     "name": "stderr",
     "output_type": "stream",
     "text": [
      "Warning message in cor.test.default(log(mdata$total), mdata$name_length, method = \"spearman\"):\n",
      "\"Cannot compute exact p-value with ties\""
     ]
    },
    {
     "data": {
      "text/plain": [
       "\n",
       "\tSpearman's rank correlation rho\n",
       "\n",
       "data:  log(mdata$total) and mdata$name_length\n",
       "S = 280320000, p-value = 0.5602\n",
       "alternative hypothesis: true rho is not equal to 0\n",
       "sample estimates:\n",
       "       rho \n",
       "0.01686065 \n"
      ]
     },
     "metadata": {},
     "output_type": "display_data"
    },
    {
     "data": {
      "image/png": "[encoded data removed]",
      "text/plain": [
       "plot without title"
      ]
     },
     "metadata": {},
     "output_type": "display_data"
    }
   ],
   "source": [
    "plot(log(mdata$total) ~ mdata$name_length)\n",
    "\n",
    "cor.test(log(mdata$total), mdata$name_length)\n",
    "\n",
    "cor.test(log(mdata$total), mdata$name_length, method = \"spearman\")\n"
   ]
  },
  {
   "cell_type": "code",
   "execution_count": 39,
   "metadata": {
    "collapsed": true
   },
   "outputs": [],
   "source": [
    "# Interestingly, my hypothesis does not seem to be correct\n",
    "# Correlation values are not significant and also the scatter plot does not show any evidence of a linear relationship\n",
    "\n",
    "# Dropping the new variable along with movie name columns\n",
    "\n",
    "mdata$name_length <- NULL\n",
    "mdata$display_name <- NULL\n",
    "mdata$name <- NULL"
   ]
  },
  {
   "cell_type": "code",
   "execution_count": null,
   "metadata": {
    "collapsed": true
   },
   "outputs": [],
   "source": [
    "# Let's check the board rating reason column\n",
    "\n",
    "head(mdata$board_rating_reason)\n",
    "\n",
    "# The movie board seems to have used quite similar terms to explain a movie, these terms can be used as an input to our model \n",
    "# Doing text mining to identify most frequent terms\n",
    "\n",
    "library(tm)\n",
    "library(wordcloud)\n",
    "\n",
    "corpus <- Corpus(VectorSource(mdata$board_rating_reason))\n",
    "\n",
    "# Cleaning of corpus\n",
    "\n",
    "corpus <- tm_map(corpus, removePunctuation)\n",
    "corpus <- tm_map(corpus, removeWords, c(stopwords(\"english\")))\n",
    "corpus <- tm_map(corpus, stripWhitespace)\n",
    "corpus <- tm_map(corpus, stemDocument)\n",
    "corpus <- tm_map(corpus, PlainTextDocument)\n",
    "\n",
    "frequencies <- DocumentTermMatrix(corpus)\n",
    "freq <- colSums(as.matrix(frequencies))"
   ]
  },
  {
   "cell_type": "code",
   "execution_count": 50,
   "metadata": {
    "collapsed": false
   },
   "outputs": [
    {
     "data": {
      "image/png": "[encoded data removed]",
      "text/plain": [
       "plot without title"
      ]
     },
     "metadata": {},
     "output_type": "display_data"
    }
   ],
   "source": [
    "set.seed(7)\n",
    "wordcloud(names(freq), freq, colors = brewer.pal(4, \"Spectral\"))"
   ]
  },
  {
   "cell_type": "code",
   "execution_count": 53,
   "metadata": {
    "collapsed": true
   },
   "outputs": [],
   "source": [
    "# As you can see, quite strong words have been used to give ratings to a movie\n",
    "# This words would be good definitely be good predictors\n",
    "\n",
    "# Keeping only top 10 most frequent words as predictors, more words may increase the predictive power but it also slow down the algorithm\n",
    "\n",
    "freq <- freq[order(-freq)]\n",
    "\n",
    "words <- names(head(freq, 10))\n",
    "\n",
    "for(i in words) mdata[[i]] <- as.numeric(grepl(i, mdata$board_rating_reason))"
   ]
  },
  {
   "cell_type": "code",
   "execution_count": 56,
   "metadata": {
    "collapsed": false
   },
   "outputs": [
    {
     "data": {
      "text/html": [
       "<ol class=list-inline>\n",
       "\t<li>\"production_year\"</li>\n",
       "\t<li>\"movie_sequel\"</li>\n",
       "\t<li>\"creative_type\"</li>\n",
       "\t<li>\"source\"</li>\n",
       "\t<li>\"production_method\"</li>\n",
       "\t<li>\"genre\"</li>\n",
       "\t<li>\"board_rating_reason\"</li>\n",
       "\t<li>\"movie_board_rating_display_name\"</li>\n",
       "\t<li>\"movie_release_pattern_display_name\"</li>\n",
       "\t<li>\"total\"</li>\n",
       "\t<li>\"Category\"</li>\n",
       "\t<li>\"creative_type_flag\"</li>\n",
       "\t<li>\"source_lowfreq_flag\"</li>\n",
       "\t<li>\"production_method_flag\"</li>\n",
       "\t<li>\"genre_action\"</li>\n",
       "\t<li>\"genre_documentary\"</li>\n",
       "\t<li>\"movie_board_rating_display_name_flag\"</li>\n",
       "\t<li>\"movie_release_pattern_display_name_flag\"</li>\n",
       "\t<li>\"languag\"</li>\n",
       "\t<li>\"sexual\"</li>\n",
       "\t<li>\"violenc\"</li>\n",
       "\t<li>\"content\"</li>\n",
       "\t<li>\"brief\"</li>\n",
       "\t<li>\"drug\"</li>\n",
       "\t<li>\"strong\"</li>\n",
       "\t<li>\"nuditi\"</li>\n",
       "\t<li>\"themat\"</li>\n",
       "\t<li>\"action\"</li>\n",
       "</ol>\n"
      ],
      "text/latex": [
       "\\begin{enumerate*}\n",
       "\\item \"production\\_year\"\n",
       "\\item \"movie\\_sequel\"\n",
       "\\item \"creative\\_type\"\n",
       "\\item \"source\"\n",
       "\\item \"production\\_method\"\n",
       "\\item \"genre\"\n",
       "\\item \"board\\_rating\\_reason\"\n",
       "\\item \"movie\\_board\\_rating\\_display\\_name\"\n",
       "\\item \"movie\\_release\\_pattern\\_display\\_name\"\n",
       "\\item \"total\"\n",
       "\\item \"Category\"\n",
       "\\item \"creative\\_type\\_flag\"\n",
       "\\item \"source\\_lowfreq\\_flag\"\n",
       "\\item \"production\\_method\\_flag\"\n",
       "\\item \"genre\\_action\"\n",
       "\\item \"genre\\_documentary\"\n",
       "\\item \"movie\\_board\\_rating\\_display\\_name\\_flag\"\n",
       "\\item \"movie\\_release\\_pattern\\_display\\_name\\_flag\"\n",
       "\\item \"languag\"\n",
       "\\item \"sexual\"\n",
       "\\item \"violenc\"\n",
       "\\item \"content\"\n",
       "\\item \"brief\"\n",
       "\\item \"drug\"\n",
       "\\item \"strong\"\n",
       "\\item \"nuditi\"\n",
       "\\item \"themat\"\n",
       "\\item \"action\"\n",
       "\\end{enumerate*}\n"
      ],
      "text/markdown": [
       "1. \"production_year\"\n",
       "2. \"movie_sequel\"\n",
       "3. \"creative_type\"\n",
       "4. \"source\"\n",
       "5. \"production_method\"\n",
       "6. \"genre\"\n",
       "7. \"board_rating_reason\"\n",
       "8. \"movie_board_rating_display_name\"\n",
       "9. \"movie_release_pattern_display_name\"\n",
       "10. \"total\"\n",
       "11. \"Category\"\n",
       "12. \"creative_type_flag\"\n",
       "13. \"source_lowfreq_flag\"\n",
       "14. \"production_method_flag\"\n",
       "15. \"genre_action\"\n",
       "16. \"genre_documentary\"\n",
       "17. \"movie_board_rating_display_name_flag\"\n",
       "18. \"movie_release_pattern_display_name_flag\"\n",
       "19. \"languag\"\n",
       "20. \"sexual\"\n",
       "21. \"violenc\"\n",
       "22. \"content\"\n",
       "23. \"brief\"\n",
       "24. \"drug\"\n",
       "25. \"strong\"\n",
       "26. \"nuditi\"\n",
       "27. \"themat\"\n",
       "28. \"action\"\n",
       "\n",
       "\n"
      ],
      "text/plain": [
       " [1] \"production_year\"                        \n",
       " [2] \"movie_sequel\"                           \n",
       " [3] \"creative_type\"                          \n",
       " [4] \"source\"                                 \n",
       " [5] \"production_method\"                      \n",
       " [6] \"genre\"                                  \n",
       " [7] \"board_rating_reason\"                    \n",
       " [8] \"movie_board_rating_display_name\"        \n",
       " [9] \"movie_release_pattern_display_name\"     \n",
       "[10] \"total\"                                  \n",
       "[11] \"Category\"                               \n",
       "[12] \"creative_type_flag\"                     \n",
       "[13] \"source_lowfreq_flag\"                    \n",
       "[14] \"production_method_flag\"                 \n",
       "[15] \"genre_action\"                           \n",
       "[16] \"genre_documentary\"                      \n",
       "[17] \"movie_board_rating_display_name_flag\"   \n",
       "[18] \"movie_release_pattern_display_name_flag\"\n",
       "[19] \"languag\"                                \n",
       "[20] \"sexual\"                                 \n",
       "[21] \"violenc\"                                \n",
       "[22] \"content\"                                \n",
       "[23] \"brief\"                                  \n",
       "[24] \"drug\"                                   \n",
       "[25] \"strong\"                                 \n",
       "[26] \"nuditi\"                                 \n",
       "[27] \"themat\"                                 \n",
       "[28] \"action\"                                 "
      ]
     },
     "metadata": {},
     "output_type": "display_data"
    }
   ],
   "source": [
    "names(mdata)\n",
    "mdata$board_rating_reason <- NULL\n"
   ]
  },
  {
   "cell_type": "code",
   "execution_count": 57,
   "metadata": {
    "collapsed": false
   },
   "outputs": [
    {
     "data": {
      "text/html": [
       "<dl class=dl-horizontal>\n",
       "\t<dt>production_year</dt>\n",
       "\t\t<dd>\"integer\"</dd>\n",
       "\t<dt>movie_sequel</dt>\n",
       "\t\t<dd>\"integer\"</dd>\n",
       "\t<dt>creative_type</dt>\n",
       "\t\t<dd>\"factor\"</dd>\n",
       "\t<dt>source</dt>\n",
       "\t\t<dd>\"factor\"</dd>\n",
       "\t<dt>production_method</dt>\n",
       "\t\t<dd>\"factor\"</dd>\n",
       "\t<dt>genre</dt>\n",
       "\t\t<dd>\"factor\"</dd>\n",
       "\t<dt>movie_board_rating_display_name</dt>\n",
       "\t\t<dd>\"factor\"</dd>\n",
       "\t<dt>movie_release_pattern_display_name</dt>\n",
       "\t\t<dd>\"factor\"</dd>\n",
       "\t<dt>total</dt>\n",
       "\t\t<dd>\"integer\"</dd>\n",
       "\t<dt>Category</dt>\n",
       "\t\t<dd>\"integer\"</dd>\n",
       "\t<dt>creative_type_flag</dt>\n",
       "\t\t<dd>\"numeric\"</dd>\n",
       "\t<dt>source_lowfreq_flag</dt>\n",
       "\t\t<dd>\"numeric\"</dd>\n",
       "\t<dt>production_method_flag</dt>\n",
       "\t\t<dd>\"numeric\"</dd>\n",
       "\t<dt>genre_action</dt>\n",
       "\t\t<dd>\"numeric\"</dd>\n",
       "\t<dt>genre_documentary</dt>\n",
       "\t\t<dd>\"numeric\"</dd>\n",
       "\t<dt>movie_board_rating_display_name_flag</dt>\n",
       "\t\t<dd>\"numeric\"</dd>\n",
       "\t<dt>movie_release_pattern_display_name_flag</dt>\n",
       "\t\t<dd>\"numeric\"</dd>\n",
       "\t<dt>languag</dt>\n",
       "\t\t<dd>\"numeric\"</dd>\n",
       "\t<dt>sexual</dt>\n",
       "\t\t<dd>\"numeric\"</dd>\n",
       "\t<dt>violenc</dt>\n",
       "\t\t<dd>\"numeric\"</dd>\n",
       "\t<dt>content</dt>\n",
       "\t\t<dd>\"numeric\"</dd>\n",
       "\t<dt>brief</dt>\n",
       "\t\t<dd>\"numeric\"</dd>\n",
       "\t<dt>drug</dt>\n",
       "\t\t<dd>\"numeric\"</dd>\n",
       "\t<dt>strong</dt>\n",
       "\t\t<dd>\"numeric\"</dd>\n",
       "\t<dt>nuditi</dt>\n",
       "\t\t<dd>\"numeric\"</dd>\n",
       "\t<dt>themat</dt>\n",
       "\t\t<dd>\"numeric\"</dd>\n",
       "\t<dt>action</dt>\n",
       "\t\t<dd>\"numeric\"</dd>\n",
       "</dl>\n"
      ],
      "text/latex": [
       "\\begin{description*}\n",
       "\\item[production\\textbackslash{}\\_year] \"integer\"\n",
       "\\item[movie\\textbackslash{}\\_sequel] \"integer\"\n",
       "\\item[creative\\textbackslash{}\\_type] \"factor\"\n",
       "\\item[source] \"factor\"\n",
       "\\item[production\\textbackslash{}\\_method] \"factor\"\n",
       "\\item[genre] \"factor\"\n",
       "\\item[movie\\textbackslash{}\\_board\\textbackslash{}\\_rating\\textbackslash{}\\_display\\textbackslash{}\\_name] \"factor\"\n",
       "\\item[movie\\textbackslash{}\\_release\\textbackslash{}\\_pattern\\textbackslash{}\\_display\\textbackslash{}\\_name] \"factor\"\n",
       "\\item[total] \"integer\"\n",
       "\\item[Category] \"integer\"\n",
       "\\item[creative\\textbackslash{}\\_type\\textbackslash{}\\_flag] \"numeric\"\n",
       "\\item[source\\textbackslash{}\\_lowfreq\\textbackslash{}\\_flag] \"numeric\"\n",
       "\\item[production\\textbackslash{}\\_method\\textbackslash{}\\_flag] \"numeric\"\n",
       "\\item[genre\\textbackslash{}\\_action] \"numeric\"\n",
       "\\item[genre\\textbackslash{}\\_documentary] \"numeric\"\n",
       "\\item[movie\\textbackslash{}\\_board\\textbackslash{}\\_rating\\textbackslash{}\\_display\\textbackslash{}\\_name\\textbackslash{}\\_flag] \"numeric\"\n",
       "\\item[movie\\textbackslash{}\\_release\\textbackslash{}\\_pattern\\textbackslash{}\\_display\\textbackslash{}\\_name\\textbackslash{}\\_flag] \"numeric\"\n",
       "\\item[languag] \"numeric\"\n",
       "\\item[sexual] \"numeric\"\n",
       "\\item[violenc] \"numeric\"\n",
       "\\item[content] \"numeric\"\n",
       "\\item[brief] \"numeric\"\n",
       "\\item[drug] \"numeric\"\n",
       "\\item[strong] \"numeric\"\n",
       "\\item[nuditi] \"numeric\"\n",
       "\\item[themat] \"numeric\"\n",
       "\\item[action] \"numeric\"\n",
       "\\end{description*}\n"
      ],
      "text/markdown": [
       "production_year\n",
       ":   \"integer\"movie_sequel\n",
       ":   \"integer\"creative_type\n",
       ":   \"factor\"source\n",
       ":   \"factor\"production_method\n",
       ":   \"factor\"genre\n",
       ":   \"factor\"movie_board_rating_display_name\n",
       ":   \"factor\"movie_release_pattern_display_name\n",
       ":   \"factor\"total\n",
       ":   \"integer\"Category\n",
       ":   \"integer\"creative_type_flag\n",
       ":   \"numeric\"source_lowfreq_flag\n",
       ":   \"numeric\"production_method_flag\n",
       ":   \"numeric\"genre_action\n",
       ":   \"numeric\"genre_documentary\n",
       ":   \"numeric\"movie_board_rating_display_name_flag\n",
       ":   \"numeric\"movie_release_pattern_display_name_flag\n",
       ":   \"numeric\"languag\n",
       ":   \"numeric\"sexual\n",
       ":   \"numeric\"violenc\n",
       ":   \"numeric\"content\n",
       ":   \"numeric\"brief\n",
       ":   \"numeric\"drug\n",
       ":   \"numeric\"strong\n",
       ":   \"numeric\"nuditi\n",
       ":   \"numeric\"themat\n",
       ":   \"numeric\"action\n",
       ":   \"numeric\"\n",
       "\n"
      ],
      "text/plain": [
       "                        production_year                            movie_sequel \n",
       "                              \"integer\"                               \"integer\" \n",
       "                          creative_type                                  source \n",
       "                               \"factor\"                                \"factor\" \n",
       "                      production_method                                   genre \n",
       "                               \"factor\"                                \"factor\" \n",
       "        movie_board_rating_display_name      movie_release_pattern_display_name \n",
       "                               \"factor\"                                \"factor\" \n",
       "                                  total                                Category \n",
       "                              \"integer\"                               \"integer\" \n",
       "                     creative_type_flag                     source_lowfreq_flag \n",
       "                              \"numeric\"                               \"numeric\" \n",
       "                 production_method_flag                            genre_action \n",
       "                              \"numeric\"                               \"numeric\" \n",
       "                      genre_documentary    movie_board_rating_display_name_flag \n",
       "                              \"numeric\"                               \"numeric\" \n",
       "movie_release_pattern_display_name_flag                                 languag \n",
       "                              \"numeric\"                               \"numeric\" \n",
       "                                 sexual                                 violenc \n",
       "                              \"numeric\"                               \"numeric\" \n",
       "                                content                                   brief \n",
       "                              \"numeric\"                               \"numeric\" \n",
       "                                   drug                                  strong \n",
       "                              \"numeric\"                               \"numeric\" \n",
       "                                 nuditi                                  themat \n",
       "                              \"numeric\"                               \"numeric\" \n",
       "                                 action \n",
       "                              \"numeric\" "
      ]
     },
     "metadata": {},
     "output_type": "display_data"
    }
   ],
   "source": [
    "# Converting character columns into factor\n",
    "# Here none of them are ordinal in nature so levels do not matter\n",
    "\n",
    "for(i in names(mdata)) if(is.character(mdata[[i]])) mdata[[i]] <- factor(mdata[[i]])\n",
    "\n",
    "sapply(mdata, class)"
   ]
  },
  {
   "cell_type": "code",
   "execution_count": 58,
   "metadata": {
    "collapsed": false
   },
   "outputs": [
    {
     "name": "stderr",
     "output_type": "stream",
     "text": [
      "Loading required package: lattice\n"
     ]
    },
    {
     "data": {
      "text/html": [
       "126.789213831182"
      ],
      "text/latex": [
       "126.789213831182"
      ],
      "text/markdown": [
       "126.789213831182"
      ],
      "text/plain": [
       "[1] 126.7892"
      ]
     },
     "metadata": {},
     "output_type": "display_data"
    },
    {
     "data": {
      "text/html": [
       "136.551966134441"
      ],
      "text/latex": [
       "136.551966134441"
      ],
      "text/markdown": [
       "136.551966134441"
      ],
      "text/plain": [
       "[1] 136.552"
      ]
     },
     "metadata": {},
     "output_type": "display_data"
    }
   ],
   "source": [
    "# The final scoring file does not have total column\n",
    "# So making multiple models first to predict total column\n",
    "\n",
    "library(caret)\n",
    "set.seed(10)\n",
    "\n",
    "inTrain <- createDataPartition(y = mdata$total, times = 1, p = 0.75, list = FALSE)\n",
    "\n",
    "training <- mdata[inTrain,]\n",
    "testing <- mdata[-inTrain,]\n",
    "\n",
    "#Linear model\n",
    "set.seed(11)\n",
    "\n",
    "lmfit1 <- lm(total ~ production_year + movie_sequel + creative_type + source + production_method +\n",
    "             genre + movie_board_rating_display_name + movie_release_pattern_display_name , data = training[,-10])\n",
    "\n",
    "RMSE(predict(lmfit1, testing), testing$total)\n",
    "\n",
    "#Decision tree model\n",
    "library(rpart)\n",
    "\n",
    "treefit1 <- rpart(total ~., data = training[,-10]) \n",
    "\n",
    "RMSE(predict(treefit1, testing), testing$total)\n"
   ]
  },
  {
   "cell_type": "code",
   "execution_count": 64,
   "metadata": {
    "collapsed": false
   },
   "outputs": [
    {
     "data": {
      "text/html": [
       "121.930243559947"
      ],
      "text/latex": [
       "121.930243559947"
      ],
      "text/markdown": [
       "121.930243559947"
      ],
      "text/plain": [
       "[1] 121.9302"
      ]
     },
     "metadata": {},
     "output_type": "display_data"
    }
   ],
   "source": [
    "# Linear model and single tree model are close in predicting total values\n",
    "# Let's see if using any boosting or bagging can improve the results\n",
    "\n",
    "#library(xgboost)\n",
    "#library(Matrix)\n",
    "library(caret)\n",
    "set.seed(14)\n",
    "control <- trainControl(method=\"repeatedcv\", number=10, repeats=3, allowParallel = TRUE)\n",
    "tunegrid <- expand.grid(.mtry = 6)\n",
    "\n",
    "rffit1 <- train(total ~., data = training[,-10], method = \"rf\", tuneGrid=tunegrid, trControl=control)\n",
    "\n",
    "# please note that I have set the value of mtry at 6, this value was found seperately using grid search\n",
    "\n",
    "RMSE(predict(rffit1, testing), testing$total)\n"
   ]
  },
  {
   "cell_type": "code",
   "execution_count": 66,
   "metadata": {
    "collapsed": false
   },
   "outputs": [
    {
     "data": {
      "text/html": [
       "<table>\n",
       "<thead><tr><th></th><th scope=col>Overall</th></tr></thead>\n",
       "<tbody>\n",
       "\t<tr><th scope=row>action</th><td>0.291467</td></tr>\n",
       "\t<tr><th scope=row>creative_type</th><td>0.2482029</td></tr>\n",
       "\t<tr><th scope=row>creative_type_flag</th><td>0.1720904</td></tr>\n",
       "\t<tr><th scope=row>genre</th><td>0.6645077</td></tr>\n",
       "\t<tr><th scope=row>genre_action</th><td>0.3857375</td></tr>\n",
       "\t<tr><th scope=row>languag</th><td>0.4678014</td></tr>\n",
       "\t<tr><th scope=row>movie_board_rating_display_name</th><td>0.5813207</td></tr>\n",
       "\t<tr><th scope=row>movie_release_pattern_display_name</th><td>0.115285</td></tr>\n",
       "\t<tr><th scope=row>movie_release_pattern_display_name_flag</th><td>0.2317592</td></tr>\n",
       "\t<tr><th scope=row>movie_sequel</th><td>0.5542492</td></tr>\n",
       "\t<tr><th scope=row>production_method</th><td>0.3020205</td></tr>\n",
       "\t<tr><th scope=row>production_method_flag</th><td>0.2956329</td></tr>\n",
       "\t<tr><th scope=row>production_year</th><td>0.02736722</td></tr>\n",
       "\t<tr><th scope=row>sexual</th><td>0.03117899</td></tr>\n",
       "\t<tr><th scope=row>source</th><td>0.3938404</td></tr>\n",
       "\t<tr><th scope=row>strong</th><td>0.05326043</td></tr>\n",
       "\t<tr><th scope=row>source_lowfreq_flag</th><td>0</td></tr>\n",
       "\t<tr><th scope=row>genre_documentary</th><td>0</td></tr>\n",
       "\t<tr><th scope=row>movie_board_rating_display_name_flag</th><td>0</td></tr>\n",
       "\t<tr><th scope=row>violenc</th><td>0</td></tr>\n",
       "\t<tr><th scope=row>content</th><td>0</td></tr>\n",
       "\t<tr><th scope=row>brief</th><td>0</td></tr>\n",
       "\t<tr><th scope=row>drug</th><td>0</td></tr>\n",
       "\t<tr><th scope=row>nuditi</th><td>0</td></tr>\n",
       "\t<tr><th scope=row>themat</th><td>0</td></tr>\n",
       "</tbody>\n",
       "</table>\n"
      ],
      "text/latex": [
       "\\begin{tabular}{r|l}\n",
       "  & Overall\\\\\n",
       "\\hline\n",
       "\taction & 0.291467\\\\\n",
       "\tcreative\\_type & 0.2482029\\\\\n",
       "\tcreative\\_type\\_flag & 0.1720904\\\\\n",
       "\tgenre & 0.6645077\\\\\n",
       "\tgenre\\_action & 0.3857375\\\\\n",
       "\tlanguag & 0.4678014\\\\\n",
       "\tmovie\\_board\\_rating\\_display\\_name & 0.5813207\\\\\n",
       "\tmovie\\_release\\_pattern\\_display\\_name & 0.115285\\\\\n",
       "\tmovie\\_release\\_pattern\\_display\\_name\\_flag & 0.2317592\\\\\n",
       "\tmovie\\_sequel & 0.5542492\\\\\n",
       "\tproduction\\_method & 0.3020205\\\\\n",
       "\tproduction\\_method\\_flag & 0.2956329\\\\\n",
       "\tproduction\\_year & 0.02736722\\\\\n",
       "\tsexual & 0.03117899\\\\\n",
       "\tsource & 0.3938404\\\\\n",
       "\tstrong & 0.05326043\\\\\n",
       "\tsource\\_lowfreq\\_flag & 0\\\\\n",
       "\tgenre\\_documentary & 0\\\\\n",
       "\tmovie\\_board\\_rating\\_display\\_name\\_flag & 0\\\\\n",
       "\tviolenc & 0\\\\\n",
       "\tcontent & 0\\\\\n",
       "\tbrief & 0\\\\\n",
       "\tdrug & 0\\\\\n",
       "\tnuditi & 0\\\\\n",
       "\tthemat & 0\\\\\n",
       "\\end{tabular}\n"
      ],
      "text/plain": [
       "                                           Overall\n",
       "action                                  0.29146703\n",
       "creative_type                           0.24820287\n",
       "creative_type_flag                      0.17209038\n",
       "genre                                   0.66450765\n",
       "genre_action                            0.38573750\n",
       "languag                                 0.46780145\n",
       "movie_board_rating_display_name         0.58132073\n",
       "movie_release_pattern_display_name      0.11528504\n",
       "movie_release_pattern_display_name_flag 0.23175923\n",
       "movie_sequel                            0.55424916\n",
       "production_method                       0.30202049\n",
       "production_method_flag                  0.29563286\n",
       "production_year                         0.02736722\n",
       "sexual                                  0.03117899\n",
       "source                                  0.39384040\n",
       "strong                                  0.05326043\n",
       "source_lowfreq_flag                     0.00000000\n",
       "genre_documentary                       0.00000000\n",
       "movie_board_rating_display_name_flag    0.00000000\n",
       "violenc                                 0.00000000\n",
       "content                                 0.00000000\n",
       "brief                                   0.00000000\n",
       "drug                                    0.00000000\n",
       "nuditi                                  0.00000000\n",
       "themat                                  0.00000000"
      ]
     },
     "metadata": {},
     "output_type": "display_data"
    }
   ],
   "source": [
    "varImp(treefit1)"
   ]
  },
  {
   "cell_type": "code",
   "execution_count": 67,
   "metadata": {
    "collapsed": false
   },
   "outputs": [
    {
     "data": {
      "text/html": [
       "121.050097477823"
      ],
      "text/latex": [
       "121.050097477823"
      ],
      "text/markdown": [
       "121.050097477823"
      ],
      "text/plain": [
       "[1] 121.0501"
      ]
     },
     "metadata": {},
     "output_type": "display_data"
    }
   ],
   "source": [
    "# Our newly created word variables are not making any contribution to the overall model\n",
    "# Also production_year has poor importance value\n",
    "\n",
    "set.seed(15)\n",
    "rffit2 <- train(total ~ action + creative_type + creative_type_flag + genre + genre_action + languag +\n",
    "                movie_board_rating_display_name + movie_release_pattern_display_name + movie_release_pattern_display_name_flag +\n",
    "                movie_sequel + production_method + production_method_flag + source, \n",
    "                data = training, method = \"rf\", tuneGrid=tunegrid, trControl=control)\n",
    "\n",
    "RMSE(predict(rffit2, testing), testing$total)"
   ]
  },
  {
   "cell_type": "code",
   "execution_count": 74,
   "metadata": {
    "collapsed": false
   },
   "outputs": [
    {
     "data": {
      "text/html": [
       "118.127964068109"
      ],
      "text/latex": [
       "118.127964068109"
      ],
      "text/markdown": [
       "118.127964068109"
      ],
      "text/plain": [
       "[1] 118.128"
      ]
     },
     "metadata": {},
     "output_type": "display_data"
    }
   ],
   "source": [
    "## Trying boosting\n",
    "set.seed(16)\n",
    "gbmfit1 <- train(total ~ action + creative_type + creative_type_flag + genre + genre_action + languag +\n",
    "                movie_board_rating_display_name + movie_release_pattern_display_name + movie_release_pattern_display_name_flag +\n",
    "                movie_sequel + production_method + production_method_flag + source, \n",
    "                data = training, method = \"gbm\", verbose = FALSE)\n",
    "\n",
    "RMSE(predict(gbmfit1, testing), testing$total)"
   ]
  },
  {
   "cell_type": "code",
   "execution_count": 76,
   "metadata": {
    "collapsed": false
   },
   "outputs": [],
   "source": [
    "# GBM is giving the best performance out of all\n",
    "# Let's tune the parameters of gbm to optimal values\n",
    "set.seed(18)\n",
    "grid <- expand.grid(n.trees = 1:500, interaction.depth = 1:10, shrinkage = 0.1, n.minobsinnode = 5)\n",
    "\n",
    "ctrl <- trainControl(method = \"repeatedcv\", number = 3, repeats = 1)\n",
    "\n",
    "gbmfit2 <- train(total ~ action + creative_type + creative_type_flag + genre + genre_action + languag +\n",
    "                movie_board_rating_display_name + movie_release_pattern_display_name + movie_release_pattern_display_name_flag +\n",
    "                movie_sequel + production_method + production_method_flag + source, \n",
    "                data = training, method = \"gbm\", verbose = FALSE, trControl = ctrl, tuneGrid = grid)\n",
    "\n",
    "gbmfit2"
   ]
  },
  {
   "cell_type": "code",
   "execution_count": null,
   "metadata": {
    "collapsed": true
   },
   "outputs": [],
   "source": [
    "# Optimal parameters selected are : n.trees = 40 and interaction.depth = 6\n",
    "\n",
    "RMSE(predict(gbmfit2, testing), testing$total)"
   ]
  },
  {
   "cell_type": "code",
   "execution_count": 79,
   "metadata": {
    "collapsed": false
   },
   "outputs": [],
   "source": [
    "# Here it cab be seen that tuning of the parameters did not yield better results than default ones\n",
    "# Hence sticking with model of default parameters\n",
    "\n",
    "# Replacing the original total column with model prediction\n",
    "mdata$total <- predict(gbmfit1, mdata)\n"
   ]
  },
  {
   "cell_type": "code",
   "execution_count": 80,
   "metadata": {
    "collapsed": false
   },
   "outputs": [
    {
     "data": {
      "text/plain": [
       "Confusion Matrix and Statistics\n",
       "\n",
       "          Reference\n",
       "Prediction   1   2   3   4   5   6   7   8   9\n",
       "         1 140  19  11   3   0   2   2   0   0\n",
       "         2  20 210  23   6   8   5   2   1   0\n",
       "         3   3  11 202  12  16  11   4   0   0\n",
       "         4   5   5   3 180   6   5   1   1   0\n",
       "         5   0   1   2   3  99   0   1   1   0\n",
       "         6   0   0   0   0   0  55   0   0   0\n",
       "         7   0   1   2   1   0   2  51   1   0\n",
       "         8   0   0   2   1   3   0   0  34   0\n",
       "         9   0   0   0   0   0   0   0   0  19\n",
       "\n",
       "Overall Statistics\n",
       "                                          \n",
       "               Accuracy : 0.8278          \n",
       "                 95% CI : (0.8051, 0.8488)\n",
       "    No Information Rate : 0.2065          \n",
       "    P-Value [Acc > NIR] : < 2.2e-16       \n",
       "                                          \n",
       "                  Kappa : 0.7952          \n",
       " Mcnemar's Test P-Value : NA              \n",
       "\n",
       "Statistics by Class:\n",
       "\n",
       "                     Class: 1 Class: 2 Class: 3 Class: 4 Class: 5 Class: 6\n",
       "Sensitivity            0.8333   0.8502   0.8245   0.8738  0.75000  0.68750\n",
       "Specificity            0.9640   0.9315   0.9401   0.9737  0.99248  1.00000\n",
       "Pos Pred Value         0.7910   0.7636   0.7799   0.8738  0.92523  1.00000\n",
       "Neg Pred Value         0.9725   0.9598   0.9541   0.9737  0.96970  0.97809\n",
       "Prevalence             0.1405   0.2065   0.2048   0.1722  0.11037  0.06689\n",
       "Detection Rate         0.1171   0.1756   0.1689   0.1505  0.08278  0.04599\n",
       "Detection Prevalence   0.1480   0.2299   0.2166   0.1722  0.08946  0.04599\n",
       "Balanced Accuracy      0.8987   0.8909   0.8823   0.9238  0.87124  0.84375\n",
       "                     Class: 7 Class: 8 Class: 9\n",
       "Sensitivity           0.83607  0.89474  1.00000\n",
       "Specificity           0.99383  0.99482  1.00000\n",
       "Pos Pred Value        0.87931  0.85000  1.00000\n",
       "Neg Pred Value        0.99121  0.99654  1.00000\n",
       "Prevalence            0.05100  0.03177  0.01589\n",
       "Detection Rate        0.04264  0.02843  0.01589\n",
       "Detection Prevalence  0.04849  0.03344  0.01589\n",
       "Balanced Accuracy     0.91495  0.94478  1.00000"
      ]
     },
     "metadata": {},
     "output_type": "display_data"
    }
   ],
   "source": [
    "# Working with random forest algorithm for making final predictions on Category column which is our target variable\n",
    "\n",
    "mdata$Category <- factor(mdata$Category, levels = c(\"1\", \"2\", \"3\", \"4\", \"5\", \"6\", \"7\",\"8\",\"9\"))\n",
    "\n",
    "set.seed(20)\n",
    "\n",
    "inTrain <- createDataPartition(y = mdata$Category, times = 1, p = 0.75, list = FALSE)\n",
    "\n",
    "training <- mdata[inTrain, ]\n",
    "testing <- mdata[-inTrain, ]\n",
    "\n",
    "control <- trainControl(method=\"repeatedcv\", number=10, repeats=3, search=\"grid\", allowParallel = TRUE)\n",
    "tunegrid <- expand.grid(.mtry=c(1:15))\n",
    "\n",
    "fit2 <- train(Category ~., data = mdata, method = \"rf\", tuneGrid=tunegrid, trControl=control)\n",
    "\n",
    "confusionMatrix(predict(fit2, mdata), mdata$Category)"
   ]
  },
  {
   "cell_type": "code",
   "execution_count": 83,
   "metadata": {
    "collapsed": false
   },
   "outputs": [
    {
     "data": {
      "text/plain": [
       "Random Forest \n",
       "\n",
       "1196 samples\n",
       "  26 predictor\n",
       "   9 classes: '1', '2', '3', '4', '5', '6', '7', '8', '9' \n",
       "\n",
       "No pre-processing\n",
       "Resampling: Cross-Validated (10 fold, repeated 3 times) \n",
       "Summary of sample sizes: 1076, 1077, 1075, 1077, 1077, 1075, ... \n",
       "Resampling results across tuning parameters:\n",
       "\n",
       "  mtry  Accuracy   Kappa     \n",
       "   1    0.2522157  0.06492078\n",
       "   2    0.2680302  0.11039829\n",
       "   3    0.2775361  0.13054571\n",
       "   4    0.2864907  0.14368271\n",
       "   5    0.2875978  0.14700932\n",
       "   6    0.2817815  0.14157189\n",
       "   7    0.2781008  0.13763479\n",
       "   8    0.2806330  0.14102110\n",
       "   9    0.2792560  0.14039882\n",
       "  10    0.2716502  0.13167902\n",
       "  11    0.2725190  0.13275370\n",
       "  12    0.2722685  0.13327891\n",
       "  13    0.2661054  0.12594909\n",
       "  14    0.2694468  0.13042045\n",
       "  15    0.2725423  0.13435139\n",
       "\n",
       "Accuracy was used to select the optimal model using  the largest value.\n",
       "The final value used for the model was mtry = 5. "
      ]
     },
     "metadata": {},
     "output_type": "display_data"
    }
   ],
   "source": [
    "fit2"
   ]
  },
  {
   "cell_type": "code",
   "execution_count": null,
   "metadata": {
    "collapsed": true
   },
   "outputs": [],
   "source": []
  }
 ],
 "metadata": {
  "anaconda-cloud": {},
  "kernelspec": {
   "display_name": "R",
   "language": "R",
   "name": "ir"
  },
  "language_info": {
   "codemirror_mode": "r",
   "file_extension": ".r",
   "mimetype": "text/x-r-source",
   "name": "R",
   "pygments_lexer": "r",
   "version": "3.3.1"
  }
 },
 "nbformat": 4,
 "nbformat_minor": 1
}
